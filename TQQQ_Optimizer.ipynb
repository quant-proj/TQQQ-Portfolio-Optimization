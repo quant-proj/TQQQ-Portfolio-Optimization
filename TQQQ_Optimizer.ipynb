{
  "nbformat": 4,
  "nbformat_minor": 0,
  "metadata": {
    "colab": {
      "provenance": []
    },
    "kernelspec": {
      "name": "python3",
      "display_name": "Python 3"
    },
    "language_info": {
      "name": "python"
    }
  },
  "cells": [
    {
      "cell_type": "markdown",
      "source": [
        "# A guide Portfolio Optimization Environment\n",
        "\n",
        "This notebook aims to provide an example of using PortfolioOptimizationEnv (or POE) to train a reinforcement learning model that learns to solve the portfolio optimization problem.\n",
        "\n",
        "In this document, we will reproduce a famous architecture called EIIE (ensemble of identical independent evaluators), introduced in the following paper:\n",
        "\n",
        "- Zhengyao Jiang, Dixing Xu, & Jinjun Liang. (2017). A Deep Reinforcement Learning Framework for the Financial Portfolio Management Problem. https://doi.org/10.48550/arXiv.1706.10059.\n",
        "\n",
        "It's advisable to read it to understand the algorithm implemented in this notebook.\n",
        "\n",
        "### Note\n",
        "If you're using this environment, consider citing the following paper (in adittion to FinRL references):\n",
        "\n",
        "- Caio Costa, & Anna Costa (2023). POE: A General Portfolio Optimization Environment for FinRL. In *Anais do II Brazilian Workshop on Artificial Intelligence in Finance* (pp. 132–143). SBC. https://doi.org/10.5753/bwaif.2023.231144.\n",
        "\n",
        "```\n",
        "@inproceedings{bwaif,\n",
        " author = {Caio Costa and Anna Costa},\n",
        " title = {POE: A General Portfolio Optimization Environment for FinRL},\n",
        " booktitle = {Anais do II Brazilian Workshop on Artificial Intelligence in Finance},\n",
        " location = {João Pessoa/PB},\n",
        " year = {2023},\n",
        " keywords = {},\n",
        " issn = {0000-0000},\n",
        " pages = {132--143},\n",
        " publisher = {SBC},\n",
        " address = {Porto Alegre, RS, Brasil},\n",
        " doi = {10.5753/bwaif.2023.231144},\n",
        " url = {https://sol.sbc.org.br/index.php/bwaif/article/view/24959}\n",
        "}\n",
        "\n",
        "```"
      ],
      "metadata": {
        "id": "fysSdJd9RO5Y"
      }
    },
    {
      "cell_type": "markdown",
      "source": [
        "## Setup"
      ],
      "metadata": {
        "id": "wa3JbtKf16xu"
      }
    },
    {
      "cell_type": "code",
      "source": [
        "## install finrl library\n",
        "!pip install wrds\n",
        "!pip install swig\n",
        "!pip install -q condacolab\n",
        "import condacolab\n",
        "condacolab.install()\n",
        "!apt-get update -y -qq && apt-get install -y -qq cmake libopenmpi-dev python3-dev zlib1g-dev libgl1-mesa-glx swig\n",
        "#!pip install git+https://github.com/AI4Finance-Foundation/FinRL.git #we dont need this\n",
        "\n",
        "## install libraries from requiremnts.txt\n",
        "from google.colab import drive\n",
        "import os\n",
        "os.chdir('/content/drive/MyDrive/FinRL')\n",
        "!pip install -r requirements.txt"
      ],
      "metadata": {
        "colab": {
          "base_uri": "https://localhost:8080/"
        },
        "collapsed": true,
        "id": "AZ0rrtd5um0f",
        "outputId": "65204ca8-5fbe-452d-902a-28d6f7326671"
      },
      "execution_count": null,
      "outputs": [
        {
          "output_type": "stream",
          "name": "stdout",
          "text": [
            "Requirement already satisfied: wrds in /usr/local/lib/python3.10/site-packages (3.2.0)\n",
            "Requirement already satisfied: numpy<1.27,>=1.26 in /usr/local/lib/python3.10/site-packages (from wrds) (1.26.4)\n",
            "Requirement already satisfied: packaging<23.3 in /usr/local/lib/python3.10/site-packages (from wrds) (23.2)\n",
            "Requirement already satisfied: pandas<2.3,>=2.2 in /usr/local/lib/python3.10/site-packages (from wrds) (2.2.2)\n",
            "Requirement already satisfied: psycopg2-binary<2.10,>=2.9 in /usr/local/lib/python3.10/site-packages (from wrds) (2.9.9)\n",
            "Requirement already satisfied: scipy<1.13,>=1.12 in /usr/local/lib/python3.10/site-packages (from wrds) (1.12.0)\n",
            "Requirement already satisfied: sqlalchemy<2.1,>=2 in /usr/local/lib/python3.10/site-packages (from wrds) (2.0.32)\n",
            "Requirement already satisfied: python-dateutil>=2.8.2 in /usr/local/lib/python3.10/site-packages (from pandas<2.3,>=2.2->wrds) (2.9.0.post0)\n",
            "Requirement already satisfied: pytz>=2020.1 in /usr/local/lib/python3.10/site-packages (from pandas<2.3,>=2.2->wrds) (2024.1)\n",
            "Requirement already satisfied: tzdata>=2022.7 in /usr/local/lib/python3.10/site-packages (from pandas<2.3,>=2.2->wrds) (2024.1)\n",
            "Requirement already satisfied: typing-extensions>=4.6.0 in /usr/local/lib/python3.10/site-packages (from sqlalchemy<2.1,>=2->wrds) (4.12.2)\n",
            "Requirement already satisfied: greenlet!=0.4.17 in /usr/local/lib/python3.10/site-packages (from sqlalchemy<2.1,>=2->wrds) (3.0.3)\n",
            "Requirement already satisfied: six>=1.5 in /usr/local/lib/python3.10/site-packages (from python-dateutil>=2.8.2->pandas<2.3,>=2.2->wrds) (1.16.0)\n",
            "Requirement already satisfied: swig in /usr/local/lib/python3.10/site-packages (4.2.1)\n",
            "✨🍰✨ Everything looks OK!\n",
            "W: Skipping acquire of configured file 'main/source/Sources' as repository 'https://r2u.stat.illinois.edu/ubuntu jammy InRelease' does not seem to provide it (sources.list entry misspelt?)\n",
            "Requirement already satisfied: alpaca_trade_api>=2.1.0 in /usr/local/lib/python3.10/site-packages (from -r requirements.txt (line 1)) (3.2.0)\n",
            "Requirement already satisfied: ccxt>=1.66.32 in /usr/local/lib/python3.10/site-packages (from -r requirements.txt (line 2)) (4.3.78)\n",
            "Requirement already satisfied: elegantrl in /usr/local/lib/python3.10/site-packages (from -r requirements.txt (line 3)) (0.3.6)\n",
            "Requirement already satisfied: exchange_calendars==3.6.3 in /usr/local/lib/python3.10/site-packages (from -r requirements.txt (line 4)) (3.6.3)\n",
            "Requirement already satisfied: gputil in /usr/local/lib/python3.10/site-packages (from -r requirements.txt (line 5)) (1.4.0)\n",
            "Requirement already satisfied: gymnasium in /usr/local/lib/python3.10/site-packages (from -r requirements.txt (line 6)) (0.29.1)\n",
            "Requirement already satisfied: importlib-metadata==4.13.0 in /usr/local/lib/python3.10/site-packages (from -r requirements.txt (line 7)) (4.13.0)\n",
            "Requirement already satisfied: jqdatasdk in /usr/local/lib/python3.10/site-packages (from -r requirements.txt (line 8)) (1.9.6)\n",
            "Requirement already satisfied: lz4 in /usr/local/lib/python3.10/site-packages (from -r requirements.txt (line 9)) (4.3.3)\n",
            "Requirement already satisfied: matplotlib in /usr/local/lib/python3.10/site-packages (from -r requirements.txt (line 11)) (3.9.1.post1)\n",
            "Requirement already satisfied: numpy>=1.17.3 in /usr/local/lib/python3.10/site-packages (from -r requirements.txt (line 13)) (1.26.4)\n",
            "Requirement already satisfied: pandas>=1.1.5 in /usr/local/lib/python3.10/site-packages (from -r requirements.txt (line 14)) (2.2.2)\n",
            "Requirement already satisfied: pre-commit in /usr/local/lib/python3.10/site-packages (from -r requirements.txt (line 17)) (3.8.0)\n",
            "Requirement already satisfied: pyfolio in /usr/local/lib/python3.10/site-packages (from -r requirements.txt (line 18)) (0.9.2)\n",
            "Requirement already satisfied: pytest in /usr/local/lib/python3.10/site-packages (from -r requirements.txt (line 21)) (8.3.2)\n",
            "Requirement already satisfied: recommonmark in /usr/local/lib/python3.10/site-packages (from -r requirements.txt (line 24)) (0.7.1)\n",
            "Requirement already satisfied: scikit-learn>=0.21.0 in /usr/local/lib/python3.10/site-packages (from -r requirements.txt (line 27)) (1.5.1)\n",
            "Requirement already satisfied: setuptools>=65.5.0 in /usr/local/lib/python3.10/site-packages (from -r requirements.txt (line 31)) (68.2.2)\n",
            "Requirement already satisfied: sphinx in /usr/local/lib/python3.10/site-packages (from -r requirements.txt (line 34)) (7.4.7)\n",
            "Requirement already satisfied: sphinx_rtd_theme in /usr/local/lib/python3.10/site-packages (from -r requirements.txt (line 35)) (2.0.0)\n",
            "Requirement already satisfied: SQLAlchemy in /usr/local/lib/python3.10/site-packages (from -r requirements.txt (line 38)) (2.0.32)\n",
            "Requirement already satisfied: stockstats>=0.4.0 in /usr/local/lib/python3.10/site-packages (from -r requirements.txt (line 40)) (0.6.2)\n",
            "Requirement already satisfied: swig in /usr/local/lib/python3.10/site-packages (from -r requirements.txt (line 41)) (4.2.1)\n",
            "Requirement already satisfied: tensorboardX in /usr/local/lib/python3.10/site-packages (from -r requirements.txt (line 43)) (2.6.2.2)\n",
            "Requirement already satisfied: wheel>=0.33.6 in /usr/local/lib/python3.10/site-packages (from -r requirements.txt (line 44)) (0.42.0)\n",
            "Requirement already satisfied: wrds in /usr/local/lib/python3.10/site-packages (from -r requirements.txt (line 45)) (3.2.0)\n",
            "Requirement already satisfied: yfinance in /usr/local/lib/python3.10/site-packages (from -r requirements.txt (line 48)) (0.2.41)\n",
            "Requirement already satisfied: ray[default] in /usr/local/lib/python3.10/site-packages (from -r requirements.txt (line 22)) (2.34.0)\n",
            "Requirement already satisfied: stable-baselines3[extra] in /usr/local/lib/python3.10/site-packages (from -r requirements.txt (line 39)) (2.3.2)\n",
            "Requirement already satisfied: pyluach in /usr/local/lib/python3.10/site-packages (from exchange_calendars==3.6.3->-r requirements.txt (line 4)) (2.2.0)\n",
            "Requirement already satisfied: python-dateutil in /usr/local/lib/python3.10/site-packages (from exchange_calendars==3.6.3->-r requirements.txt (line 4)) (2.9.0.post0)\n",
            "Requirement already satisfied: pytz in /usr/local/lib/python3.10/site-packages (from exchange_calendars==3.6.3->-r requirements.txt (line 4)) (2024.1)\n",
            "Requirement already satisfied: toolz in /usr/local/lib/python3.10/site-packages (from exchange_calendars==3.6.3->-r requirements.txt (line 4)) (0.12.1)\n",
            "Requirement already satisfied: korean-lunar-calendar in /usr/local/lib/python3.10/site-packages (from exchange_calendars==3.6.3->-r requirements.txt (line 4)) (0.3.1)\n",
            "Requirement already satisfied: zipp>=0.5 in /usr/local/lib/python3.10/site-packages (from importlib-metadata==4.13.0->-r requirements.txt (line 7)) (3.19.2)\n",
            "Requirement already satisfied: requests<3,>2 in /usr/local/lib/python3.10/site-packages (from alpaca_trade_api>=2.1.0->-r requirements.txt (line 1)) (2.31.0)\n",
            "Requirement already satisfied: urllib3<2,>1.24 in /usr/local/lib/python3.10/site-packages (from alpaca_trade_api>=2.1.0->-r requirements.txt (line 1)) (1.26.19)\n",
            "Requirement already satisfied: websocket-client<2,>=0.56.0 in /usr/local/lib/python3.10/site-packages (from alpaca_trade_api>=2.1.0->-r requirements.txt (line 1)) (1.8.0)\n",
            "Requirement already satisfied: websockets<11,>=9.0 in /usr/local/lib/python3.10/site-packages (from alpaca_trade_api>=2.1.0->-r requirements.txt (line 1)) (10.4)\n",
            "Requirement already satisfied: msgpack==1.0.3 in /usr/local/lib/python3.10/site-packages (from alpaca_trade_api>=2.1.0->-r requirements.txt (line 1)) (1.0.3)\n",
            "Requirement already satisfied: aiohttp<4,>=3.8.3 in /usr/local/lib/python3.10/site-packages (from alpaca_trade_api>=2.1.0->-r requirements.txt (line 1)) (3.10.2)\n",
            "Requirement already satisfied: PyYAML==6.0.1 in /usr/local/lib/python3.10/site-packages (from alpaca_trade_api>=2.1.0->-r requirements.txt (line 1)) (6.0.1)\n",
            "Requirement already satisfied: deprecation==2.1.0 in /usr/local/lib/python3.10/site-packages (from alpaca_trade_api>=2.1.0->-r requirements.txt (line 1)) (2.1.0)\n",
            "Requirement already satisfied: packaging in /usr/local/lib/python3.10/site-packages (from deprecation==2.1.0->alpaca_trade_api>=2.1.0->-r requirements.txt (line 1)) (23.2)\n",
            "Requirement already satisfied: certifi>=2018.1.18 in /usr/local/lib/python3.10/site-packages (from ccxt>=1.66.32->-r requirements.txt (line 2)) (2023.11.17)\n",
            "Requirement already satisfied: cryptography>=2.6.1 in /usr/local/lib/python3.10/site-packages (from ccxt>=1.66.32->-r requirements.txt (line 2)) (43.0.0)\n",
            "Requirement already satisfied: typing-extensions>=4.4.0 in /usr/local/lib/python3.10/site-packages (from ccxt>=1.66.32->-r requirements.txt (line 2)) (4.12.2)\n",
            "Requirement already satisfied: aiodns>=1.1.1 in /usr/local/lib/python3.10/site-packages (from ccxt>=1.66.32->-r requirements.txt (line 2)) (3.2.0)\n",
            "Requirement already satisfied: yarl>=1.7.2 in /usr/local/lib/python3.10/site-packages (from ccxt>=1.66.32->-r requirements.txt (line 2)) (1.9.4)\n",
            "Requirement already satisfied: torch in /usr/local/lib/python3.10/site-packages (from elegantrl->-r requirements.txt (line 3)) (2.4.0)\n",
            "Requirement already satisfied: gym in /usr/local/lib/python3.10/site-packages (from elegantrl->-r requirements.txt (line 3)) (0.26.2)\n",
            "Requirement already satisfied: cloudpickle>=1.2.0 in /usr/local/lib/python3.10/site-packages (from gymnasium->-r requirements.txt (line 6)) (3.0.0)\n",
            "Requirement already satisfied: farama-notifications>=0.0.1 in /usr/local/lib/python3.10/site-packages (from gymnasium->-r requirements.txt (line 6)) (0.0.4)\n",
            "Requirement already satisfied: six in /usr/local/lib/python3.10/site-packages (from jqdatasdk->-r requirements.txt (line 8)) (1.16.0)\n",
            "Requirement already satisfied: pymysql>=0.7.6 in /usr/local/lib/python3.10/site-packages (from jqdatasdk->-r requirements.txt (line 8)) (1.1.1)\n",
            "Requirement already satisfied: thriftpy2!=0.5.1,>=0.3.9 in /usr/local/lib/python3.10/site-packages (from jqdatasdk->-r requirements.txt (line 8)) (0.5.2)\n",
            "Requirement already satisfied: contourpy>=1.0.1 in /usr/local/lib/python3.10/site-packages (from matplotlib->-r requirements.txt (line 11)) (1.2.1)\n",
            "Requirement already satisfied: cycler>=0.10 in /usr/local/lib/python3.10/site-packages (from matplotlib->-r requirements.txt (line 11)) (0.12.1)\n",
            "Requirement already satisfied: fonttools>=4.22.0 in /usr/local/lib/python3.10/site-packages (from matplotlib->-r requirements.txt (line 11)) (4.53.1)\n",
            "Requirement already satisfied: kiwisolver>=1.3.1 in /usr/local/lib/python3.10/site-packages (from matplotlib->-r requirements.txt (line 11)) (1.4.5)\n",
            "Requirement already satisfied: pillow>=8 in /usr/local/lib/python3.10/site-packages (from matplotlib->-r requirements.txt (line 11)) (10.4.0)\n",
            "Requirement already satisfied: pyparsing>=2.3.1 in /usr/local/lib/python3.10/site-packages (from matplotlib->-r requirements.txt (line 11)) (3.1.2)\n",
            "Requirement already satisfied: tzdata>=2022.7 in /usr/local/lib/python3.10/site-packages (from pandas>=1.1.5->-r requirements.txt (line 14)) (2024.1)\n",
            "Requirement already satisfied: cfgv>=2.0.0 in /usr/local/lib/python3.10/site-packages (from pre-commit->-r requirements.txt (line 17)) (3.4.0)\n",
            "Requirement already satisfied: identify>=1.0.0 in /usr/local/lib/python3.10/site-packages (from pre-commit->-r requirements.txt (line 17)) (2.6.0)\n",
            "Requirement already satisfied: nodeenv>=0.11.1 in /usr/local/lib/python3.10/site-packages (from pre-commit->-r requirements.txt (line 17)) (1.9.1)\n",
            "Requirement already satisfied: virtualenv>=20.10.0 in /usr/local/lib/python3.10/site-packages (from pre-commit->-r requirements.txt (line 17)) (20.26.3)\n",
            "Requirement already satisfied: ipython>=3.2.3 in /usr/local/lib/python3.10/site-packages (from pyfolio->-r requirements.txt (line 18)) (8.26.0)\n",
            "Requirement already satisfied: scipy>=0.14.0 in /usr/local/lib/python3.10/site-packages (from pyfolio->-r requirements.txt (line 18)) (1.12.0)\n",
            "Requirement already satisfied: seaborn>=0.7.1 in /usr/local/lib/python3.10/site-packages (from pyfolio->-r requirements.txt (line 18)) (0.13.2)\n",
            "Requirement already satisfied: empyrical>=0.5.0 in /usr/local/lib/python3.10/site-packages (from pyfolio->-r requirements.txt (line 18)) (0.5.5)\n",
            "Requirement already satisfied: iniconfig in /usr/local/lib/python3.10/site-packages (from pytest->-r requirements.txt (line 21)) (2.0.0)\n",
            "Requirement already satisfied: pluggy<2,>=1.5 in /usr/local/lib/python3.10/site-packages (from pytest->-r requirements.txt (line 21)) (1.5.0)\n",
            "Requirement already satisfied: exceptiongroup>=1.0.0rc8 in /usr/local/lib/python3.10/site-packages (from pytest->-r requirements.txt (line 21)) (1.2.2)\n",
            "Requirement already satisfied: tomli>=1 in /usr/local/lib/python3.10/site-packages (from pytest->-r requirements.txt (line 21)) (2.0.1)\n",
            "Requirement already satisfied: click>=7.0 in /usr/local/lib/python3.10/site-packages (from ray[default]->-r requirements.txt (line 22)) (8.1.7)\n",
            "Requirement already satisfied: filelock in /usr/local/lib/python3.10/site-packages (from ray[default]->-r requirements.txt (line 22)) (3.15.4)\n",
            "Requirement already satisfied: jsonschema in /usr/local/lib/python3.10/site-packages (from ray[default]->-r requirements.txt (line 22)) (4.23.0)\n",
            "Requirement already satisfied: protobuf!=3.19.5,>=3.15.3 in /usr/local/lib/python3.10/site-packages (from ray[default]->-r requirements.txt (line 22)) (4.25.4)\n",
            "Requirement already satisfied: aiosignal in /usr/local/lib/python3.10/site-packages (from ray[default]->-r requirements.txt (line 22)) (1.3.1)\n",
            "Requirement already satisfied: frozenlist in /usr/local/lib/python3.10/site-packages (from ray[default]->-r requirements.txt (line 22)) (1.4.1)\n",
            "Requirement already satisfied: aiohttp-cors in /usr/local/lib/python3.10/site-packages (from ray[default]->-r requirements.txt (line 22)) (0.7.0)\n",
            "Requirement already satisfied: colorful in /usr/local/lib/python3.10/site-packages (from ray[default]->-r requirements.txt (line 22)) (0.5.6)\n",
            "Requirement already satisfied: py-spy>=0.2.0 in /usr/local/lib/python3.10/site-packages (from ray[default]->-r requirements.txt (line 22)) (0.3.14)\n",
            "Requirement already satisfied: opencensus in /usr/local/lib/python3.10/site-packages (from ray[default]->-r requirements.txt (line 22)) (0.11.4)\n",
            "Requirement already satisfied: pydantic!=2.0.*,!=2.1.*,!=2.2.*,!=2.3.*,!=2.4.*,<3 in /usr/local/lib/python3.10/site-packages (from ray[default]->-r requirements.txt (line 22)) (2.8.2)\n",
            "Requirement already satisfied: prometheus-client>=0.7.1 in /usr/local/lib/python3.10/site-packages (from ray[default]->-r requirements.txt (line 22)) (0.20.0)\n",
            "Requirement already satisfied: smart-open in /usr/local/lib/python3.10/site-packages (from ray[default]->-r requirements.txt (line 22)) (7.0.4)\n",
            "Requirement already satisfied: grpcio>=1.42.0 in /usr/local/lib/python3.10/site-packages (from ray[default]->-r requirements.txt (line 22)) (1.65.4)\n",
            "Requirement already satisfied: memray in /usr/local/lib/python3.10/site-packages (from ray[default]->-r requirements.txt (line 22)) (1.13.4)\n",
            "Requirement already satisfied: pyarrow>=6.0.1 in /usr/local/lib/python3.10/site-packages (from ray[tune]->-r requirements.txt (line 23)) (17.0.0)\n",
            "Requirement already satisfied: fsspec in /usr/local/lib/python3.10/site-packages (from ray[tune]->-r requirements.txt (line 23)) (2024.6.1)\n",
            "Requirement already satisfied: commonmark>=0.8.1 in /usr/local/lib/python3.10/site-packages (from recommonmark->-r requirements.txt (line 24)) (0.9.1)\n",
            "Requirement already satisfied: docutils>=0.11 in /usr/local/lib/python3.10/site-packages (from recommonmark->-r requirements.txt (line 24)) (0.20.1)\n",
            "Requirement already satisfied: joblib>=1.2.0 in /usr/local/lib/python3.10/site-packages (from scikit-learn>=0.21.0->-r requirements.txt (line 27)) (1.4.2)\n",
            "Requirement already satisfied: threadpoolctl>=3.1.0 in /usr/local/lib/python3.10/site-packages (from scikit-learn>=0.21.0->-r requirements.txt (line 27)) (3.5.0)\n",
            "Requirement already satisfied: sphinxcontrib-applehelp in /usr/local/lib/python3.10/site-packages (from sphinx->-r requirements.txt (line 34)) (2.0.0)\n",
            "Requirement already satisfied: sphinxcontrib-devhelp in /usr/local/lib/python3.10/site-packages (from sphinx->-r requirements.txt (line 34)) (2.0.0)\n",
            "Requirement already satisfied: sphinxcontrib-jsmath in /usr/local/lib/python3.10/site-packages (from sphinx->-r requirements.txt (line 34)) (1.0.1)\n",
            "Requirement already satisfied: sphinxcontrib-htmlhelp>=2.0.0 in /usr/local/lib/python3.10/site-packages (from sphinx->-r requirements.txt (line 34)) (2.1.0)\n",
            "Requirement already satisfied: sphinxcontrib-serializinghtml>=1.1.9 in /usr/local/lib/python3.10/site-packages (from sphinx->-r requirements.txt (line 34)) (2.0.0)\n",
            "Requirement already satisfied: sphinxcontrib-qthelp in /usr/local/lib/python3.10/site-packages (from sphinx->-r requirements.txt (line 34)) (2.0.0)\n",
            "Requirement already satisfied: Jinja2>=3.1 in /usr/local/lib/python3.10/site-packages (from sphinx->-r requirements.txt (line 34)) (3.1.4)\n",
            "Requirement already satisfied: Pygments>=2.17 in /usr/local/lib/python3.10/site-packages (from sphinx->-r requirements.txt (line 34)) (2.18.0)\n",
            "Requirement already satisfied: snowballstemmer>=2.2 in /usr/local/lib/python3.10/site-packages (from sphinx->-r requirements.txt (line 34)) (2.2.0)\n",
            "Requirement already satisfied: babel>=2.13 in /usr/local/lib/python3.10/site-packages (from sphinx->-r requirements.txt (line 34)) (2.16.0)\n",
            "Requirement already satisfied: alabaster~=0.7.14 in /usr/local/lib/python3.10/site-packages (from sphinx->-r requirements.txt (line 34)) (0.7.16)\n",
            "Requirement already satisfied: imagesize>=1.3 in /usr/local/lib/python3.10/site-packages (from sphinx->-r requirements.txt (line 34)) (1.4.1)\n",
            "Requirement already satisfied: sphinxcontrib-jquery<5,>=4 in /usr/local/lib/python3.10/site-packages (from sphinx_rtd_theme->-r requirements.txt (line 35)) (4.1)\n",
            "Requirement already satisfied: greenlet!=0.4.17 in /usr/local/lib/python3.10/site-packages (from SQLAlchemy->-r requirements.txt (line 38)) (3.0.3)\n",
            "Requirement already satisfied: opencv-python in /usr/local/lib/python3.10/site-packages (from stable-baselines3[extra]->-r requirements.txt (line 39)) (4.10.0.84)\n",
            "Requirement already satisfied: pygame in /usr/local/lib/python3.10/site-packages (from stable-baselines3[extra]->-r requirements.txt (line 39)) (2.1.0)\n",
            "Requirement already satisfied: tensorboard>=2.9.1 in /usr/local/lib/python3.10/site-packages (from stable-baselines3[extra]->-r requirements.txt (line 39)) (2.17.0)\n",
            "Requirement already satisfied: psutil in /usr/local/lib/python3.10/site-packages (from stable-baselines3[extra]->-r requirements.txt (line 39)) (6.0.0)\n",
            "Requirement already satisfied: tqdm in /usr/local/lib/python3.10/site-packages (from stable-baselines3[extra]->-r requirements.txt (line 39)) (4.66.1)\n",
            "Requirement already satisfied: rich in /usr/local/lib/python3.10/site-packages (from stable-baselines3[extra]->-r requirements.txt (line 39)) (13.7.1)\n",
            "Requirement already satisfied: shimmy~=1.3.0 in /usr/local/lib/python3.10/site-packages (from shimmy[atari]~=1.3.0; extra == \"extra\"->stable-baselines3[extra]->-r requirements.txt (line 39)) (1.3.0)\n",
            "Requirement already satisfied: autorom~=0.6.1 in /usr/local/lib/python3.10/site-packages (from autorom[accept-rom-license]~=0.6.1; extra == \"extra\"->stable-baselines3[extra]->-r requirements.txt (line 39)) (0.6.1)\n",
            "Requirement already satisfied: psycopg2-binary<2.10,>=2.9 in /usr/local/lib/python3.10/site-packages (from wrds->-r requirements.txt (line 45)) (2.9.9)\n",
            "Requirement already satisfied: multitasking>=0.0.7 in /usr/local/lib/python3.10/site-packages (from yfinance->-r requirements.txt (line 48)) (0.0.11)\n",
            "Requirement already satisfied: lxml>=4.9.1 in /usr/local/lib/python3.10/site-packages (from yfinance->-r requirements.txt (line 48)) (5.2.2)\n",
            "Requirement already satisfied: platformdirs>=2.0.0 in /usr/local/lib/python3.10/site-packages (from yfinance->-r requirements.txt (line 48)) (4.1.0)\n",
            "Requirement already satisfied: frozendict>=2.3.4 in /usr/local/lib/python3.10/site-packages (from yfinance->-r requirements.txt (line 48)) (2.4.4)\n",
            "Requirement already satisfied: peewee>=3.16.2 in /usr/local/lib/python3.10/site-packages (from yfinance->-r requirements.txt (line 48)) (3.17.6)\n",
            "Requirement already satisfied: beautifulsoup4>=4.11.1 in /usr/local/lib/python3.10/site-packages (from yfinance->-r requirements.txt (line 48)) (4.12.3)\n",
            "Requirement already satisfied: html5lib>=1.1 in /usr/local/lib/python3.10/site-packages (from yfinance->-r requirements.txt (line 48)) (1.1)\n",
            "Requirement already satisfied: pycares>=4.0.0 in /usr/local/lib/python3.10/site-packages (from aiodns>=1.1.1->ccxt>=1.66.32->-r requirements.txt (line 2)) (4.4.0)\n",
            "Requirement already satisfied: aiohappyeyeballs>=2.3.0 in /usr/local/lib/python3.10/site-packages (from aiohttp<4,>=3.8.3->alpaca_trade_api>=2.1.0->-r requirements.txt (line 1)) (2.3.5)\n",
            "Requirement already satisfied: attrs>=17.3.0 in /usr/local/lib/python3.10/site-packages (from aiohttp<4,>=3.8.3->alpaca_trade_api>=2.1.0->-r requirements.txt (line 1)) (24.2.0)\n",
            "Requirement already satisfied: multidict<7.0,>=4.5 in /usr/local/lib/python3.10/site-packages (from aiohttp<4,>=3.8.3->alpaca_trade_api>=2.1.0->-r requirements.txt (line 1)) (6.0.5)\n",
            "Requirement already satisfied: async-timeout<5.0,>=4.0 in /usr/local/lib/python3.10/site-packages (from aiohttp<4,>=3.8.3->alpaca_trade_api>=2.1.0->-r requirements.txt (line 1)) (4.0.3)\n",
            "Requirement already satisfied: AutoROM.accept-rom-license in /usr/local/lib/python3.10/site-packages (from autorom[accept-rom-license]~=0.6.1; extra == \"extra\"->stable-baselines3[extra]->-r requirements.txt (line 39)) (0.6.1)\n",
            "Requirement already satisfied: soupsieve>1.2 in /usr/local/lib/python3.10/site-packages (from beautifulsoup4>=4.11.1->yfinance->-r requirements.txt (line 48)) (2.5)\n",
            "Requirement already satisfied: cffi>=1.12 in /usr/local/lib/python3.10/site-packages (from cryptography>=2.6.1->ccxt>=1.66.32->-r requirements.txt (line 2)) (1.16.0)\n",
            "Requirement already satisfied: pandas-datareader>=0.2 in /usr/local/lib/python3.10/site-packages (from empyrical>=0.5.0->pyfolio->-r requirements.txt (line 18)) (0.10.0)\n",
            "Requirement already satisfied: webencodings in /usr/local/lib/python3.10/site-packages (from html5lib>=1.1->yfinance->-r requirements.txt (line 48)) (0.5.1)\n",
            "Requirement already satisfied: decorator in /usr/local/lib/python3.10/site-packages (from ipython>=3.2.3->pyfolio->-r requirements.txt (line 18)) (5.1.1)\n",
            "Requirement already satisfied: jedi>=0.16 in /usr/local/lib/python3.10/site-packages (from ipython>=3.2.3->pyfolio->-r requirements.txt (line 18)) (0.19.1)\n",
            "Requirement already satisfied: matplotlib-inline in /usr/local/lib/python3.10/site-packages (from ipython>=3.2.3->pyfolio->-r requirements.txt (line 18)) (0.1.7)\n",
            "Requirement already satisfied: prompt-toolkit<3.1.0,>=3.0.41 in /usr/local/lib/python3.10/site-packages (from ipython>=3.2.3->pyfolio->-r requirements.txt (line 18)) (3.0.47)\n",
            "Requirement already satisfied: stack-data in /usr/local/lib/python3.10/site-packages (from ipython>=3.2.3->pyfolio->-r requirements.txt (line 18)) (0.6.3)\n",
            "Requirement already satisfied: traitlets>=5.13.0 in /usr/local/lib/python3.10/site-packages (from ipython>=3.2.3->pyfolio->-r requirements.txt (line 18)) (5.14.3)\n",
            "Requirement already satisfied: pexpect>4.3 in /usr/local/lib/python3.10/site-packages (from ipython>=3.2.3->pyfolio->-r requirements.txt (line 18)) (4.9.0)\n",
            "Requirement already satisfied: MarkupSafe>=2.0 in /usr/local/lib/python3.10/site-packages (from Jinja2>=3.1->sphinx->-r requirements.txt (line 34)) (2.1.5)\n",
            "Requirement already satisfied: annotated-types>=0.4.0 in /usr/local/lib/python3.10/site-packages (from pydantic!=2.0.*,!=2.1.*,!=2.2.*,!=2.3.*,!=2.4.*,<3->ray[default]->-r requirements.txt (line 22)) (0.7.0)\n",
            "Requirement already satisfied: pydantic-core==2.20.1 in /usr/local/lib/python3.10/site-packages (from pydantic!=2.0.*,!=2.1.*,!=2.2.*,!=2.3.*,!=2.4.*,<3->ray[default]->-r requirements.txt (line 22)) (2.20.1)\n",
            "Requirement already satisfied: charset-normalizer<4,>=2 in /usr/local/lib/python3.10/site-packages (from requests<3,>2->alpaca_trade_api>=2.1.0->-r requirements.txt (line 1)) (3.3.2)\n",
            "Requirement already satisfied: idna<4,>=2.5 in /usr/local/lib/python3.10/site-packages (from requests<3,>2->alpaca_trade_api>=2.1.0->-r requirements.txt (line 1)) (3.6)\n",
            "Requirement already satisfied: ale-py~=0.8.1 in /usr/local/lib/python3.10/site-packages (from shimmy[atari]~=1.3.0; extra == \"extra\"->stable-baselines3[extra]->-r requirements.txt (line 39)) (0.8.1)\n",
            "Requirement already satisfied: absl-py>=0.4 in /usr/local/lib/python3.10/site-packages (from tensorboard>=2.9.1->stable-baselines3[extra]->-r requirements.txt (line 39)) (2.1.0)\n",
            "Requirement already satisfied: markdown>=2.6.8 in /usr/local/lib/python3.10/site-packages (from tensorboard>=2.9.1->stable-baselines3[extra]->-r requirements.txt (line 39)) (3.6)\n",
            "Requirement already satisfied: tensorboard-data-server<0.8.0,>=0.7.0 in /usr/local/lib/python3.10/site-packages (from tensorboard>=2.9.1->stable-baselines3[extra]->-r requirements.txt (line 39)) (0.7.2)\n",
            "Requirement already satisfied: werkzeug>=1.0.1 in /usr/local/lib/python3.10/site-packages (from tensorboard>=2.9.1->stable-baselines3[extra]->-r requirements.txt (line 39)) (3.0.3)\n",
            "Requirement already satisfied: Cython>=3.0.10 in /usr/local/lib/python3.10/site-packages (from thriftpy2!=0.5.1,>=0.3.9->jqdatasdk->-r requirements.txt (line 8)) (3.0.11)\n",
            "Requirement already satisfied: ply<4.0,>=3.4 in /usr/local/lib/python3.10/site-packages (from thriftpy2!=0.5.1,>=0.3.9->jqdatasdk->-r requirements.txt (line 8)) (3.11)\n",
            "Requirement already satisfied: sympy in /usr/local/lib/python3.10/site-packages (from torch->elegantrl->-r requirements.txt (line 3)) (1.13.1)\n",
            "Requirement already satisfied: networkx in /usr/local/lib/python3.10/site-packages (from torch->elegantrl->-r requirements.txt (line 3)) (3.3)\n",
            "Requirement already satisfied: nvidia-cuda-nvrtc-cu12==12.1.105 in /usr/local/lib/python3.10/site-packages (from torch->elegantrl->-r requirements.txt (line 3)) (12.1.105)\n",
            "Requirement already satisfied: nvidia-cuda-runtime-cu12==12.1.105 in /usr/local/lib/python3.10/site-packages (from torch->elegantrl->-r requirements.txt (line 3)) (12.1.105)\n",
            "Requirement already satisfied: nvidia-cuda-cupti-cu12==12.1.105 in /usr/local/lib/python3.10/site-packages (from torch->elegantrl->-r requirements.txt (line 3)) (12.1.105)\n",
            "Requirement already satisfied: nvidia-cudnn-cu12==9.1.0.70 in /usr/local/lib/python3.10/site-packages (from torch->elegantrl->-r requirements.txt (line 3)) (9.1.0.70)\n",
            "Requirement already satisfied: nvidia-cublas-cu12==12.1.3.1 in /usr/local/lib/python3.10/site-packages (from torch->elegantrl->-r requirements.txt (line 3)) (12.1.3.1)\n",
            "Requirement already satisfied: nvidia-cufft-cu12==11.0.2.54 in /usr/local/lib/python3.10/site-packages (from torch->elegantrl->-r requirements.txt (line 3)) (11.0.2.54)\n",
            "Requirement already satisfied: nvidia-curand-cu12==10.3.2.106 in /usr/local/lib/python3.10/site-packages (from torch->elegantrl->-r requirements.txt (line 3)) (10.3.2.106)\n",
            "Requirement already satisfied: nvidia-cusolver-cu12==11.4.5.107 in /usr/local/lib/python3.10/site-packages (from torch->elegantrl->-r requirements.txt (line 3)) (11.4.5.107)\n",
            "Requirement already satisfied: nvidia-cusparse-cu12==12.1.0.106 in /usr/local/lib/python3.10/site-packages (from torch->elegantrl->-r requirements.txt (line 3)) (12.1.0.106)\n",
            "Requirement already satisfied: nvidia-nccl-cu12==2.20.5 in /usr/local/lib/python3.10/site-packages (from torch->elegantrl->-r requirements.txt (line 3)) (2.20.5)\n",
            "Requirement already satisfied: nvidia-nvtx-cu12==12.1.105 in /usr/local/lib/python3.10/site-packages (from torch->elegantrl->-r requirements.txt (line 3)) (12.1.105)\n",
            "Requirement already satisfied: triton==3.0.0 in /usr/local/lib/python3.10/site-packages (from torch->elegantrl->-r requirements.txt (line 3)) (3.0.0)\n",
            "Requirement already satisfied: nvidia-nvjitlink-cu12 in /usr/local/lib/python3.10/site-packages (from nvidia-cusolver-cu12==11.4.5.107->torch->elegantrl->-r requirements.txt (line 3)) (12.6.20)\n",
            "Requirement already satisfied: distlib<1,>=0.3.7 in /usr/local/lib/python3.10/site-packages (from virtualenv>=20.10.0->pre-commit->-r requirements.txt (line 17)) (0.3.8)\n",
            "Requirement already satisfied: gym-notices>=0.0.4 in /usr/local/lib/python3.10/site-packages (from gym->elegantrl->-r requirements.txt (line 3)) (0.0.8)\n",
            "Requirement already satisfied: box2d-py==2.3.5 in /usr/local/lib/python3.10/site-packages (from gym[box2d]->elegantrl->-r requirements.txt (line 3)) (2.3.5)\n",
            "Requirement already satisfied: jsonschema-specifications>=2023.03.6 in /usr/local/lib/python3.10/site-packages (from jsonschema->ray[default]->-r requirements.txt (line 22)) (2023.12.1)\n",
            "Requirement already satisfied: referencing>=0.28.4 in /usr/local/lib/python3.10/site-packages (from jsonschema->ray[default]->-r requirements.txt (line 22)) (0.35.1)\n",
            "Requirement already satisfied: rpds-py>=0.7.1 in /usr/local/lib/python3.10/site-packages (from jsonschema->ray[default]->-r requirements.txt (line 22)) (0.20.0)\n",
            "Requirement already satisfied: textual>=0.41.0 in /usr/local/lib/python3.10/site-packages (from memray->ray[default]->-r requirements.txt (line 22)) (0.76.0)\n",
            "Requirement already satisfied: markdown-it-py>=2.2.0 in /usr/local/lib/python3.10/site-packages (from rich->stable-baselines3[extra]->-r requirements.txt (line 39)) (3.0.0)\n",
            "Requirement already satisfied: opencensus-context>=0.1.3 in /usr/local/lib/python3.10/site-packages (from opencensus->ray[default]->-r requirements.txt (line 22)) (0.1.3)\n",
            "Requirement already satisfied: google-api-core<3.0.0,>=1.0.0 in /usr/local/lib/python3.10/site-packages (from opencensus->ray[default]->-r requirements.txt (line 22)) (2.19.1)\n",
            "Requirement already satisfied: wrapt in /usr/local/lib/python3.10/site-packages (from smart-open->ray[default]->-r requirements.txt (line 22)) (1.16.0)\n",
            "Requirement already satisfied: importlib-resources in /usr/local/lib/python3.10/site-packages (from ale-py~=0.8.1->shimmy[atari]~=1.3.0; extra == \"extra\"->stable-baselines3[extra]->-r requirements.txt (line 39)) (6.4.0)\n",
            "Requirement already satisfied: pycparser in /usr/local/lib/python3.10/site-packages (from cffi>=1.12->cryptography>=2.6.1->ccxt>=1.66.32->-r requirements.txt (line 2)) (2.21)\n",
            "Requirement already satisfied: googleapis-common-protos<2.0.dev0,>=1.56.2 in /usr/local/lib/python3.10/site-packages (from google-api-core<3.0.0,>=1.0.0->opencensus->ray[default]->-r requirements.txt (line 22)) (1.63.2)\n",
            "Requirement already satisfied: proto-plus<2.0.0dev,>=1.22.3 in /usr/local/lib/python3.10/site-packages (from google-api-core<3.0.0,>=1.0.0->opencensus->ray[default]->-r requirements.txt (line 22)) (1.24.0)\n",
            "Requirement already satisfied: google-auth<3.0.dev0,>=2.14.1 in /usr/local/lib/python3.10/site-packages (from google-api-core<3.0.0,>=1.0.0->opencensus->ray[default]->-r requirements.txt (line 22)) (2.33.0)\n",
            "Requirement already satisfied: parso<0.9.0,>=0.8.3 in /usr/local/lib/python3.10/site-packages (from jedi>=0.16->ipython>=3.2.3->pyfolio->-r requirements.txt (line 18)) (0.8.4)\n",
            "Requirement already satisfied: mdurl~=0.1 in /usr/local/lib/python3.10/site-packages (from markdown-it-py>=2.2.0->rich->stable-baselines3[extra]->-r requirements.txt (line 39)) (0.1.2)\n",
            "Requirement already satisfied: ptyprocess>=0.5 in /usr/local/lib/python3.10/site-packages (from pexpect>4.3->ipython>=3.2.3->pyfolio->-r requirements.txt (line 18)) (0.7.0)\n",
            "Requirement already satisfied: wcwidth in /usr/local/lib/python3.10/site-packages (from prompt-toolkit<3.1.0,>=3.0.41->ipython>=3.2.3->pyfolio->-r requirements.txt (line 18)) (0.2.13)\n",
            "Requirement already satisfied: executing>=1.2.0 in /usr/local/lib/python3.10/site-packages (from stack-data->ipython>=3.2.3->pyfolio->-r requirements.txt (line 18)) (2.0.1)\n",
            "Requirement already satisfied: asttokens>=2.1.0 in /usr/local/lib/python3.10/site-packages (from stack-data->ipython>=3.2.3->pyfolio->-r requirements.txt (line 18)) (2.4.1)\n",
            "Requirement already satisfied: pure-eval in /usr/local/lib/python3.10/site-packages (from stack-data->ipython>=3.2.3->pyfolio->-r requirements.txt (line 18)) (0.2.3)\n",
            "Requirement already satisfied: mpmath<1.4,>=1.1.0 in /usr/local/lib/python3.10/site-packages (from sympy->torch->elegantrl->-r requirements.txt (line 3)) (1.3.0)\n",
            "Requirement already satisfied: cachetools<6.0,>=2.0.0 in /usr/local/lib/python3.10/site-packages (from google-auth<3.0.dev0,>=2.14.1->google-api-core<3.0.0,>=1.0.0->opencensus->ray[default]->-r requirements.txt (line 22)) (5.4.0)\n",
            "Requirement already satisfied: pyasn1-modules>=0.2.1 in /usr/local/lib/python3.10/site-packages (from google-auth<3.0.dev0,>=2.14.1->google-api-core<3.0.0,>=1.0.0->opencensus->ray[default]->-r requirements.txt (line 22)) (0.4.0)\n",
            "Requirement already satisfied: rsa<5,>=3.1.4 in /usr/local/lib/python3.10/site-packages (from google-auth<3.0.dev0,>=2.14.1->google-api-core<3.0.0,>=1.0.0->opencensus->ray[default]->-r requirements.txt (line 22)) (4.9)\n",
            "Requirement already satisfied: mdit-py-plugins in /usr/local/lib/python3.10/site-packages (from markdown-it-py[linkify,plugins]>=2.1.0->textual>=0.41.0->memray->ray[default]->-r requirements.txt (line 22)) (0.4.1)\n",
            "Requirement already satisfied: linkify-it-py<3,>=1 in /usr/local/lib/python3.10/site-packages (from markdown-it-py[linkify,plugins]>=2.1.0->textual>=0.41.0->memray->ray[default]->-r requirements.txt (line 22)) (2.0.3)\n",
            "Requirement already satisfied: uc-micro-py in /usr/local/lib/python3.10/site-packages (from linkify-it-py<3,>=1->markdown-it-py[linkify,plugins]>=2.1.0->textual>=0.41.0->memray->ray[default]->-r requirements.txt (line 22)) (1.0.3)\n",
            "Requirement already satisfied: pyasn1<0.7.0,>=0.4.6 in /usr/local/lib/python3.10/site-packages (from pyasn1-modules>=0.2.1->google-auth<3.0.dev0,>=2.14.1->google-api-core<3.0.0,>=1.0.0->opencensus->ray[default]->-r requirements.txt (line 22)) (0.6.0)\n"
          ]
        }
      ]
    },
    {
      "cell_type": "code",
      "source": [
        "from google.colab import drive\n",
        "drive.mount('/content/drive')"
      ],
      "metadata": {
        "id": "dpAYwTilZWkR"
      },
      "execution_count": null,
      "outputs": []
    },
    {
      "cell_type": "code",
      "source": [
        "import pandas as pd\n",
        "import numpy as np\n",
        "import matplotlib\n",
        "import matplotlib.pyplot as plt\n",
        "# matplotlib.use('Agg')\n",
        "import datetime\n",
        "\n",
        "%matplotlib inline\n",
        "from finrl.config_tickers import DOW_30_TICKER\n",
        "from finrl.meta.preprocessor.yahoodownloader import YahooDownloader\n",
        "from finrl.meta.preprocessor.preprocessors import FeatureEngineer, data_split\n",
        "from finrl.meta.env_stock_trading.env_stocktrading import StockTradingEnv\n",
        "from finrl.agents.stablebaselines3.models import DRLAgent,DRLEnsembleAgent\n",
        "from finrl.plot import backtest_stats, backtest_plot, get_daily_return, get_baseline\n",
        "\n",
        "from pprint import pprint\n",
        "\n",
        "import sys\n",
        "sys.path.append(\"../FinRL-Library\")\n",
        "\n",
        "import itertools"
      ],
      "metadata": {
        "colab": {
          "base_uri": "https://localhost:8080/"
        },
        "id": "ZG7sKExIvnYu",
        "outputId": "9dbd0f80-11a4-470b-acd1-f6e229088045"
      },
      "execution_count": null,
      "outputs": [
        {
          "output_type": "stream",
          "name": "stderr",
          "text": [
            "/usr/local/lib/python3.10/site-packages/pyfolio/pos.py:26: UserWarning: Module \"zipline.assets\" not found; mutltipliers will not be applied to position notionals.\n",
            "  warnings.warn(\n"
          ]
        }
      ]
    },
    {
      "cell_type": "markdown",
      "source": [
        "## Create Folders (not sure if we need this or if it is working)"
      ],
      "metadata": {
        "id": "CWX4rOp41vZy"
      }
    },
    {
      "cell_type": "code",
      "source": [
        "from finrl.main import check_and_make_directories\n",
        "from finrl.config import (\n",
        "    DATA_SAVE_DIR,\n",
        "    TRAINED_MODEL_DIR,\n",
        "    TENSORBOARD_LOG_DIR,\n",
        "    RESULTS_DIR,\n",
        "    INDICATORS,\n",
        "    TRAIN_START_DATE,\n",
        "    TRAIN_END_DATE,\n",
        "    TEST_START_DATE,\n",
        "    TEST_END_DATE,\n",
        "    TRADE_START_DATE,\n",
        "    TRADE_END_DATE,\n",
        ")\n",
        "\n",
        "check_and_make_directories([DATA_SAVE_DIR, TRAINED_MODEL_DIR, TENSORBOARD_LOG_DIR, RESULTS_DIR])"
      ],
      "metadata": {
        "id": "M1Z1uqnt1pNG"
      },
      "execution_count": null,
      "outputs": []
    },
    {
      "cell_type": "markdown",
      "source": [
        "## Fetch Data from Leveraged Script\n",
        "To do this part *you* will have to import the script made [avaliable in this repo.](https://github.com/quant-proj/Leverage-Stock-Data-Simulator/blob/main/Hardcoded_GetLeveraged.py)"
      ],
      "metadata": {
        "id": "I706bhEM3YiB"
      }
    },
    {
      "cell_type": "code",
      "source": [
        "from google.colab import files\n",
        "uploaded = files.upload()\n"
      ],
      "metadata": {
        "id": "Is8nXW_I3cNh"
      },
      "execution_count": null,
      "outputs": []
    },
    {
      "cell_type": "code",
      "source": [
        "%run Hardcoded_GetLeveraged.py"
      ],
      "metadata": {
        "id": "cpaYgqXRc69f"
      },
      "execution_count": null,
      "outputs": []
    },
    {
      "cell_type": "code",
      "source": [
        "df = pd.read_csv('Simulated_QQQ_Leveraged_3x.csv', skiprows=1)\n",
        "df.head()"
      ],
      "metadata": {
        "id": "hrRzxf4ic9LF"
      },
      "execution_count": null,
      "outputs": []
    }
  ]
}